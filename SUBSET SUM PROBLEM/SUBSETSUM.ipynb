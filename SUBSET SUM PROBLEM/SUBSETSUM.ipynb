{
 "cells": [
  {
   "cell_type": "markdown",
   "id": "0448d27c-b793-4b2a-82ee-ee1679068e39",
   "metadata": {},
   "source": [
    "# SUBSET SUM PROBLEM"
   ]
  },
  {
   "cell_type": "markdown",
   "id": "2f4b45d2-ed1f-4118-97c4-dd15fd8e9b92",
   "metadata": {},
   "source": [
    "# IMPLEMENTATION USING BFS"
   ]
  },
  {
   "cell_type": "code",
   "execution_count": 6,
   "id": "b5186b30-b08f-4249-b349-dc097034a1f3",
   "metadata": {},
   "outputs": [
    {
     "name": "stdout",
     "output_type": "stream",
     "text": [
      "----------------------------------\n",
      "Current node is 1 \n",
      "Checking if 1 + 2 equals to 9\n",
      "Checking if 1 + 3 equals to 9\n",
      "----------------------------------\n",
      "Current node is 2 \n",
      "Checking if 2 + 5 equals to 9\n",
      "----------------------------------\n",
      "Current node is 3 \n",
      "Checking if 3 + 7 equals to 9\n",
      "Checking if 3 + 6 equals to 9\n",
      "3 + 6 = 9\n",
      "----------------------------------\n",
      "Current node is 4 \n",
      "Checking if 4 + 5 equals to 9\n",
      "4 + 5 = 9\n",
      "----------------------------------\n",
      "Current node is 5 \n",
      "----------------------------------\n",
      "Current node is 6 \n",
      "----------------------------------\n",
      "Current node is 7 \n",
      "----------------------------------\n",
      "Current node is 2 \n",
      "----------------------------------\n",
      "Current node is 3 \n",
      "----------------------------------\n",
      "Current node is 5 \n",
      "----------------------------------\n",
      "Current node is 7 \n",
      "----------------------------------\n",
      "Current node is 6 \n",
      "----------------------------------\n",
      "Current node is 5 \n",
      "[(3, 6), (4, 5)]\n"
     ]
    }
   ],
   "source": [
    "def SUBSETSUMBFS( graph, target ):\n",
    "    queue = [ i for i in graph ] #creating a queue using the keys of the dictionary 'graph'\n",
    "    visited = set() \n",
    "    \n",
    "    while queue: #while queue not empty\n",
    "        currentnode = queue.pop(0)\n",
    "        visited.add(currentnode)\n",
    "        print(\"----------------------------------\")\n",
    "        print(f\"Current node is { currentnode } \")\n",
    "        \n",
    "        for neighbour in graph[currentnode]: #neighbouring nodes of current node\n",
    "            if neighbour not in visited: #checks if neighbouring nodes are visited or not\n",
    "                print(f\"Checking if { currentnode } + { neighbour } equals to { target }\")\n",
    "                if currentnode + neighbour == target: #checks if currentnode + neighbour node equals target\n",
    "                        print(f\"{ currentnode } + { neighbour } = { target }\")\n",
    "                        result.append(( currentnode, neighbour )) #return the pairs\n",
    "                queue.append( neighbour ) #add neighbour to the queue if not already visited\n",
    "\n",
    "    return None\n",
    "\n",
    "graph = { 1: [ 2, 3 ], 2: [ 5 ], 3: [ 7, 6 ] , 4: [ 5 ] , 5: [ 2, 4 ], 6: [ 3 ] , 7: [ 3 ] }\n",
    "target = 9\n",
    "result = [] \n",
    "SUBSETSUMBFS( graph, target ) #function call\n",
    "print( result )"
   ]
  },
  {
   "cell_type": "markdown",
   "id": "f5ff055d-3376-4296-aed1-bdab9117667e",
   "metadata": {},
   "source": [
    "# IMPLEMENTATION USING DFS"
   ]
  },
  {
   "cell_type": "code",
   "execution_count": 9,
   "id": "c23b0c41-6e9b-4737-8dfd-9d68b4f1b0fc",
   "metadata": {},
   "outputs": [
    {
     "name": "stdout",
     "output_type": "stream",
     "text": [
      "-------------------------------------\n",
      "Current node is 1\n",
      "-------------------------------------\n",
      "Checking if 1 + 2 equals to 9\n",
      "Checking if 2 + 5 equals to 9\n",
      "Checking if 5 + 4 equals to 9\n",
      "5 + 4 = 9\n",
      "Checking if 1 + 3 equals to 9\n",
      "Checking if 3 + 7 equals to 9\n",
      "Checking if 3 + 6 equals to 9\n",
      "3 + 6 = 9\n",
      "-------------------------------------\n",
      "Current node is 2\n",
      "-------------------------------------\n",
      "-------------------------------------\n",
      "Current node is 3\n",
      "-------------------------------------\n",
      "-------------------------------------\n",
      "Current node is 4\n",
      "-------------------------------------\n",
      "-------------------------------------\n",
      "Current node is 5\n",
      "-------------------------------------\n",
      "-------------------------------------\n",
      "Current node is 6\n",
      "-------------------------------------\n",
      "-------------------------------------\n",
      "Current node is 7\n",
      "-------------------------------------\n",
      "[(5, 4), (3, 6)]\n"
     ]
    }
   ],
   "source": [
    "result = []\n",
    "\n",
    "def DFS( node, graph, target, visited, result ):\n",
    "    if node in visited: #checks if node is visited or not\n",
    "        return result\n",
    "    \n",
    "    visited.add(node) #add node to visited\n",
    "    \n",
    "    for neighbour in graph[node]: #traverse neighbouring nodes of node\n",
    "        if neighbour not in visited: #checks if neighbour is visited node or not\n",
    "            print(f\"Checking if { node } + { neighbour } equals to { target }\")\n",
    "            if node + neighbour == target: #checks if node + neighbour = target\n",
    "                print(f\"{ node } + { neighbour } = { target }\")\n",
    "                result.append(( node, neighbour )) #returns the pair\n",
    "            \n",
    "            DFS( neighbour, graph, target, visited, result ) #function call\n",
    "\n",
    "def SUBSETSUMDFS( graph, target ):\n",
    "    visited = set()\n",
    "    result = []\n",
    "    for node in graph: #for keys in the graph\n",
    "        print(\"-------------------------------------\")\n",
    "        print(f\"Current node is { node }\")\n",
    "        print(\"-------------------------------------\")\n",
    "        if node not in visited: #checks if node is not in visited\n",
    "            DFS( node , graph, target, visited, result )\n",
    "    return result\n",
    "\n",
    "graph = { 1: [ 2, 3 ] , 2: [ 5 ], 3: [ 7, 6 ], 4:[ 5 ], 5: [ 2, 4 ] , 6:[ 3 ], 7 : [ 3 ] }\n",
    "target = 9\n",
    "result = SUBSETSUMDFS( graph, target ) #function call\n",
    "print( result )"
   ]
  },
  {
   "cell_type": "markdown",
   "id": "10d5c733-5604-40b3-bc19-4019d1f70c6d",
   "metadata": {},
   "source": [
    "# IMPLEMENTATION USING SET"
   ]
  },
  {
   "cell_type": "code",
   "execution_count": 12,
   "id": "95ed4182-6391-4fca-8ea7-ea8d077b3add",
   "metadata": {},
   "outputs": [
    {
     "name": "stdout",
     "output_type": "stream",
     "text": [
      "HashMap = {8: 1} \n",
      "-----------------------------\n",
      "HashMap = {8: 1, 7: 2} \n",
      "-----------------------------\n",
      "HashMap = {8: 1, 7: 2, 6: 3} \n",
      "-----------------------------\n",
      "HashMap = {8: 1, 7: 2, 6: 3, 4: 5} \n",
      "-----------------------------\n",
      "Final Result = [(3, 6), (2, 7)]\n"
     ]
    }
   ],
   "source": [
    "set1 = { 1, 2, 3, 5, 6, 7 }\n",
    "target = 9\n",
    "\n",
    "def SUBSETSUM( set1, target):\n",
    "    HashMap = {}\n",
    "    for i in set1:\n",
    "        if i in HashMap:\n",
    "            result.append((HashMap.get(i), i)) #append ( i, complement ) to the result\n",
    "        else:\n",
    "            value = target - i\n",
    "            HashMap[ value ] = i\n",
    "            print(f\"HashMap = { HashMap } \")\n",
    "            print(\"-----------------------------\")\n",
    "\n",
    "result = []\n",
    "SUBSETSUM( set1, target )\n",
    "print(f\"Final Result = { result }\")"
   ]
  }
 ],
 "metadata": {
  "kernelspec": {
   "display_name": "Python 3 (ipykernel)",
   "language": "python",
   "name": "python3"
  },
  "language_info": {
   "codemirror_mode": {
    "name": "ipython",
    "version": 3
   },
   "file_extension": ".py",
   "mimetype": "text/x-python",
   "name": "python",
   "nbconvert_exporter": "python",
   "pygments_lexer": "ipython3",
   "version": "3.12.4"
  }
 },
 "nbformat": 4,
 "nbformat_minor": 5
}
