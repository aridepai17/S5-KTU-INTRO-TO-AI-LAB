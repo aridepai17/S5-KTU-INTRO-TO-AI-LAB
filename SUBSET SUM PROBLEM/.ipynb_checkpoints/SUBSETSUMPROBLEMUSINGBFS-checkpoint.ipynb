{
 "cells": [
  {
   "cell_type": "markdown",
   "id": "0448d27c-b793-4b2a-82ee-ee1679068e39",
   "metadata": {},
   "source": [
    "# SUBSET SUM PROBLEM IMPLEMENTATION USING BFS"
   ]
  },
  {
   "cell_type": "code",
   "execution_count": 2,
   "id": "b5186b30-b08f-4249-b349-dc097034a1f3",
   "metadata": {},
   "outputs": [
    {
     "name": "stdout",
     "output_type": "stream",
     "text": [
      "----------------------------------\n",
      "Current node is 1 \n",
      "Checking if 1 + 2 equals to 9\n",
      "Checking if 1 + 3 equals to 9\n",
      "----------------------------------\n",
      "Current node is 2 \n",
      "Checking if 2 + 5 equals to 9\n",
      "----------------------------------\n",
      "Current node is 3 \n",
      "Checking if 3 + 7 equals to 9\n",
      "Checking if 3 + 6 equals to 9\n",
      "3 + 6 = 9\n",
      "----------------------------------\n",
      "Current node is 4 \n",
      "Checking if 4 + 5 equals to 9\n",
      "4 + 5 = 9\n",
      "----------------------------------\n",
      "Current node is 5 \n",
      "----------------------------------\n",
      "Current node is 6 \n",
      "----------------------------------\n",
      "Current node is 7 \n",
      "----------------------------------\n",
      "Current node is 2 \n",
      "----------------------------------\n",
      "Current node is 3 \n",
      "----------------------------------\n",
      "Current node is 5 \n",
      "----------------------------------\n",
      "Current node is 7 \n",
      "----------------------------------\n",
      "Current node is 6 \n",
      "----------------------------------\n",
      "Current node is 5 \n",
      "[(3, 6), (4, 5)]\n"
     ]
    }
   ],
   "source": [
    "def SUBSETSUMBFS( graph, target ):\n",
    "    queue = [ i for i in graph ] #creating a queue using the keys of the dictionary 'graph'\n",
    "    visited = set() \n",
    "    \n",
    "    while queue: #while queue not empty\n",
    "        currentnode = queue.pop(0)\n",
    "        visited.add(currentnode)\n",
    "        print(\"----------------------------------\")\n",
    "        print(f\"Current node is { currentnode } \")\n",
    "        \n",
    "        for neighbour in graph[currentnode]: #neighbouring nodes of current node\n",
    "            if neighbour not in visited: #checks if neighbouring nodes are visited or not\n",
    "                print(f\"Checking if { currentnode } + { neighbour } equals to { target }\")\n",
    "                if currentnode + neighbour == target: #checks if currentnode + neighbour node equals target\n",
    "                        print(f\"{ currentnode } + { neighbour } = { target }\")\n",
    "                        result.append(( currentnode, neighbour )) #return the pairs\n",
    "                queue.append( neighbour ) #add neighbour to the queue if not already visited\n",
    "\n",
    "    return None\n",
    "\n",
    "graph = { 1: [ 2, 3 ], 2: [ 5 ], 3: [ 7, 6 ] , 4: [ 5 ] , 5: [ 2, 4 ], 6: [ 3 ] , 7: [ 3 ] }\n",
    "target = 9\n",
    "result = [] \n",
    "SUBSETSUMBFS( graph, target ) #function call\n",
    "print( result )"
   ]
  }
 ],
 "metadata": {
  "kernelspec": {
   "display_name": "Python 3 (ipykernel)",
   "language": "python",
   "name": "python3"
  },
  "language_info": {
   "codemirror_mode": {
    "name": "ipython",
    "version": 3
   },
   "file_extension": ".py",
   "mimetype": "text/x-python",
   "name": "python",
   "nbconvert_exporter": "python",
   "pygments_lexer": "ipython3",
   "version": "3.12.4"
  }
 },
 "nbformat": 4,
 "nbformat_minor": 5
}
