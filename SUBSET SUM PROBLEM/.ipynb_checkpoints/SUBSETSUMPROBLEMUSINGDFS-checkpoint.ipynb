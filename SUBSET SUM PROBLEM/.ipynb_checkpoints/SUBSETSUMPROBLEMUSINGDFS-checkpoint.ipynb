{
 "cells": [
  {
   "cell_type": "markdown",
   "id": "551878dd-e60c-4b5a-b6df-f375af47d996",
   "metadata": {},
   "source": [
    "# SUBSET SUM PROBLEM IMPLEMENTATION USING DFS"
   ]
  },
  {
   "cell_type": "code",
   "execution_count": 5,
   "id": "2806dec2-fb25-4fa3-bc1e-0413c3ce71a6",
   "metadata": {},
   "outputs": [
    {
     "name": "stdout",
     "output_type": "stream",
     "text": [
      "-------------------------------------\n",
      "Current node is 1\n",
      "-------------------------------------\n",
      "Checking if 1 + 2 equals to 9\n",
      "Checking if 2 + 5 equals to 9\n",
      "Checking if 5 + 4 equals to 9\n",
      "5 + 4 = 9\n",
      "Checking if 1 + 3 equals to 9\n",
      "Checking if 3 + 7 equals to 9\n",
      "Checking if 3 + 6 equals to 9\n",
      "3 + 6 = 9\n",
      "-------------------------------------\n",
      "Current node is 2\n",
      "-------------------------------------\n",
      "-------------------------------------\n",
      "Current node is 3\n",
      "-------------------------------------\n",
      "-------------------------------------\n",
      "Current node is 4\n",
      "-------------------------------------\n",
      "-------------------------------------\n",
      "Current node is 5\n",
      "-------------------------------------\n",
      "-------------------------------------\n",
      "Current node is 6\n",
      "-------------------------------------\n",
      "-------------------------------------\n",
      "Current node is 7\n",
      "-------------------------------------\n",
      "[(5, 4), (3, 6)]\n"
     ]
    }
   ],
   "source": [
    "result = []\n",
    "\n",
    "def DFS( node, graph, target, visited, result ):\n",
    "    if node in visited: #checks if node is visited or not\n",
    "        return result\n",
    "    \n",
    "    visited.add(node) #add node to visited\n",
    "    \n",
    "    for neighbour in graph[node]: #traverse neighbouring nodes of node\n",
    "        if neighbour not in visited: #checks if neighbour is visited node or not\n",
    "            print(f\"Checking if { node } + { neighbour } equals to { target }\")\n",
    "            if node + neighbour == target: #checks if node + neighbour = target\n",
    "                print(f\"{ node } + { neighbour } = { target }\")\n",
    "                result.append(( node, neighbour )) #returns the pair\n",
    "            \n",
    "            DFS( neighbour, graph, target, visited, result ) #function call\n",
    "\n",
    "def SUBSETSUMDFS( graph, target ):\n",
    "    visited = set()\n",
    "    result = []\n",
    "    for node in graph: #for keys in the graph\n",
    "        print(\"-------------------------------------\")\n",
    "        print(f\"Current node is { node }\")\n",
    "        print(\"-------------------------------------\")\n",
    "        if node not in visited: #checks if node is not in visited\n",
    "            DFS( node , graph, target, visited, result )\n",
    "    return result\n",
    "\n",
    "graph = { 1: [ 2, 3 ] , 2: [ 5 ], 3: [ 7, 6 ], 4:[ 5 ], 5: [ 2, 4 ] , 6:[ 3 ], 7 : [ 3 ] }\n",
    "target = 9\n",
    "result = SUBSETSUMDFS( graph, target ) #function call\n",
    "print( result )"
   ]
  }
 ],
 "metadata": {
  "kernelspec": {
   "display_name": "Python 3 (ipykernel)",
   "language": "python",
   "name": "python3"
  },
  "language_info": {
   "codemirror_mode": {
    "name": "ipython",
    "version": 3
   },
   "file_extension": ".py",
   "mimetype": "text/x-python",
   "name": "python",
   "nbconvert_exporter": "python",
   "pygments_lexer": "ipython3",
   "version": "3.12.4"
  }
 },
 "nbformat": 4,
 "nbformat_minor": 5
}
