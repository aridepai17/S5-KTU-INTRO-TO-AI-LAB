{
 "cells": [
  {
   "cell_type": "markdown",
   "id": "7cf1c436-d68f-4b4f-8563-a714bda00542",
   "metadata": {},
   "source": [
    "# SUBSET SUM PROBLEM IMPLEMENTATION USING SET"
   ]
  },
  {
   "cell_type": "code",
   "execution_count": 2,
   "id": "62cc7c86-be58-4f90-a832-77b07a59ba89",
   "metadata": {},
   "outputs": [
    {
     "name": "stdout",
     "output_type": "stream",
     "text": [
      "HashMap = {8: 1} \n",
      "-----------------------------\n",
      "HashMap = {8: 1, 7: 2} \n",
      "-----------------------------\n",
      "HashMap = {8: 1, 7: 2, 6: 3} \n",
      "-----------------------------\n",
      "HashMap = {8: 1, 7: 2, 6: 3, 4: 5} \n",
      "-----------------------------\n",
      "Final Result = [(3, 6), (2, 7)]\n"
     ]
    }
   ],
   "source": [
    "set1 = { 1, 2, 3, 5, 6, 7 }\n",
    "target = 9\n",
    "\n",
    "def SUBSETSUM( set1, target):\n",
    "    HashMap = {}\n",
    "    for i in set1:\n",
    "        if i in HashMap:\n",
    "            result.append((HashMap.get(i), i)) #append ( i, complement ) to the result\n",
    "        else:\n",
    "            value = target - i\n",
    "            HashMap[ value ] = i\n",
    "            print(f\"HashMap = { HashMap } \")\n",
    "            print(\"-----------------------------\")\n",
    "\n",
    "result = []\n",
    "SUBSETSUM( set1, target )\n",
    "print(f\"Final Result = { result }\")"
   ]
  }
 ],
 "metadata": {
  "kernelspec": {
   "display_name": "Python 3 (ipykernel)",
   "language": "python",
   "name": "python3"
  },
  "language_info": {
   "codemirror_mode": {
    "name": "ipython",
    "version": 3
   },
   "file_extension": ".py",
   "mimetype": "text/x-python",
   "name": "python",
   "nbconvert_exporter": "python",
   "pygments_lexer": "ipython3",
   "version": "3.12.4"
  }
 },
 "nbformat": 4,
 "nbformat_minor": 5
}
