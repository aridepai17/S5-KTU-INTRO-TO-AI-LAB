{
 "cells": [
  {
   "cell_type": "code",
   "execution_count": 3,
   "id": "ee5c4232-caaf-4670-8596-4f83616356ec",
   "metadata": {},
   "outputs": [
    {
     "name": "stdout",
     "output_type": "stream",
     "text": [
      "Requirement already satisfied: pytholog in c:\\anaconda\\lib\\site-packages (2.4.1)\n",
      "Requirement already satisfied: more-itertools in c:\\anaconda\\lib\\site-packages (from pytholog) (10.1.0)\n",
      "Note: you may need to restart the kernel to use updated packages.\n"
     ]
    }
   ],
   "source": [
    "pip install pytholog"
   ]
  },
  {
   "cell_type": "code",
   "execution_count": 5,
   "id": "6a55b995-de75-4e85-bb7a-c55e2c9f08e5",
   "metadata": {},
   "outputs": [
    {
     "name": "stdout",
     "output_type": "stream",
     "text": [
      "Requirement already satisfied: sympy in c:\\anaconda\\lib\\site-packages (1.12)\n",
      "Requirement already satisfied: mpmath>=0.19 in c:\\anaconda\\lib\\site-packages (from sympy) (1.3.0)\n",
      "Note: you may need to restart the kernel to use updated packages.\n"
     ]
    }
   ],
   "source": [
    "pip install sympy"
   ]
  },
  {
   "cell_type": "code",
   "execution_count": 7,
   "id": "c7bc5d96-03d6-4d0f-bceb-5b00ef25b7d7",
   "metadata": {},
   "outputs": [],
   "source": [
    "from sympy import *\n",
    "init_printing(\"mathjax\") #sympy expression printing"
   ]
  },
  {
   "cell_type": "code",
   "execution_count": 10,
   "id": "eb351978-b0ca-4c16-9898-9118536c436a",
   "metadata": {},
   "outputs": [
    {
     "data": {
      "image/png": "[encoded data removed]",
      "text/latex": [
       "$\\displaystyle \\frac{1}{2}$"
      ],
      "text/plain": [
       "1/2"
      ]
     },
     "execution_count": 10,
     "metadata": {},
     "output_type": "execute_result"
    }
   ],
   "source": [
    "Rational(1,2)"
   ]
  },
  {
   "cell_type": "code",
   "execution_count": 16,
   "id": "b6264523-a08c-45f1-a201-6f4167816ca6",
   "metadata": {},
   "outputs": [],
   "source": [
    "x = symbols(\"x\")\n",
    "a, b, c = symbols(\"a, b, c\", real = True )\n",
    "i, j, n = symbols(\"i, j, n\", integer = True )\n",
    "f = symbols(\"f\", cls = Function )"
   ]
  },
  {
   "cell_type": "code",
   "execution_count": 22,
   "id": "8ea3f289-9118-4a96-9219-f805fc2b7c62",
   "metadata": {},
   "outputs": [
    {
     "data": {
      "image/png": "[encoded data removed]",
      "text/latex": [
       "$\\displaystyle i$"
      ],
      "text/plain": [
       "ⅈ"
      ]
     },
     "execution_count": 22,
     "metadata": {},
     "output_type": "execute_result"
    }
   ],
   "source": [
    "I #imaginary unit"
   ]
  },
  {
   "cell_type": "code",
   "execution_count": 20,
   "id": "3605f375-8423-4bd8-b60e-929ebccb6404",
   "metadata": {},
   "outputs": [
    {
     "data": {
      "image/png": "[encoded data removed]",
      "text/latex": [
       "$\\displaystyle \\sum_{i=1}^{n} x^{i}$"
      ],
      "text/plain": [
       "  n     \n",
       " ___    \n",
       " ╲      \n",
       "  ╲    i\n",
       "  ╱   x \n",
       " ╱      \n",
       " ‾‾‾    \n",
       "i = 1   "
      ]
     },
     "execution_count": 20,
     "metadata": {},
     "output_type": "execute_result"
    }
   ],
   "source": [
    "Sum(x**i, (i, 1, n))"
   ]
  },
  {
   "cell_type": "code",
   "execution_count": 24,
   "id": "0701d75c-c7cb-40bc-913b-aea078d474c1",
   "metadata": {},
   "outputs": [
    {
     "data": {
      "image/png": "[encoded data removed]",
      "text/latex": [
       "$\\displaystyle \\prod_{i=1}^{n} \\left(i + x\\right)$"
      ],
      "text/plain": [
       "  n        \n",
       "─┬─┬─      \n",
       " │ │  i + x\n",
       " │ │       \n",
       "i = 1      "
      ]
     },
     "execution_count": 24,
     "metadata": {},
     "output_type": "execute_result"
    }
   ],
   "source": [
    "Product(x+i, (i, 1, n))"
   ]
  },
  {
   "cell_type": "code",
   "execution_count": 28,
   "id": "56ada425-9473-4ffe-81b1-79dd3aee6bbc",
   "metadata": {},
   "outputs": [],
   "source": [
    "rain = Symbol (\"rain\") #It is raining.\n",
    "hagrid = Symbol(\"hagrid\") #Harry visited Hagrid.\n",
    "dumbledore = Symbol(\"dumbledore\") #Harry visited Dumbledore."
   ]
  },
  {
   "cell_type": "code",
   "execution_count": 30,
   "id": "23f2d131-307c-4bbb-bd74-0c65a952ac84",
   "metadata": {},
   "outputs": [],
   "source": [
    "from sympy.logic.inference import satisfiable"
   ]
  },
  {
   "cell_type": "code",
   "execution_count": 32,
   "id": "f15b8a47-b61c-44ba-beae-fe6b82b1ba00",
   "metadata": {},
   "outputs": [],
   "source": [
    "from sympy.logic.inference import valid"
   ]
  },
  {
   "cell_type": "code",
   "execution_count": 34,
   "id": "6e5a6539-d574-4649-8798-2bc072265b2b",
   "metadata": {},
   "outputs": [],
   "source": [
    "from sympy.logic.inference import *"
   ]
  },
  {
   "cell_type": "code",
   "execution_count": 56,
   "id": "813d0933-6bf1-4ec0-8601-cbe639391622",
   "metadata": {},
   "outputs": [],
   "source": [
    "knowledge = And(Implies(Not(rain), hagrid), Or(hagrid, dumbledore), Not(And(hagrid, dumbledore)), dumbledore)"
   ]
  },
  {
   "cell_type": "code",
   "execution_count": 58,
   "id": "e71b4fe8-9c1f-4e17-801f-e4e6d9c2f318",
   "metadata": {},
   "outputs": [
    {
     "data": {
      "image/png": "[encoded data removed]",
      "text/latex": [
       "$\\displaystyle dumbledore \\wedge \\left(\\neg rain \\Rightarrow hagrid\\right) \\wedge \\neg \\left(dumbledore \\wedge hagrid\\right) \\wedge \\left(dumbledore \\vee hagrid\\right)$"
      ],
      "text/plain": [
       "dumbledore ∧ (¬rain → hagrid) ∧ ¬(dumbledore ∧ hagrid) ∧ (dumbledore ∨ hagrid)"
      ]
     },
     "execution_count": 58,
     "metadata": {},
     "output_type": "execute_result"
    }
   ],
   "source": [
    "knowledge"
   ]
  },
  {
   "cell_type": "code",
   "execution_count": 60,
   "id": "bc8cb69b-72fe-4af6-bd59-93dccf13599b",
   "metadata": {},
   "outputs": [
    {
     "name": "stdout",
     "output_type": "stream",
     "text": [
      "{B: True, A: True}\n",
      "{B: False, A: True}\n"
     ]
    }
   ],
   "source": [
    "from sympy import symbols, And, Or, satisfiable\n",
    "\n",
    "#Define symbols\n",
    "A, B = symbols('A B')\n",
    "\n",
    "#Create a logical expression (knowledge base)\n",
    "knowledge = And(A, Or(A, B))\n",
    "\n",
    "#Get all models that satisfy the knowledge base\n",
    "models = satisfiable(knowledge, all_models = True)\n",
    "\n",
    "#Output the models\n",
    "for model in models:\n",
    "    print(model)"
   ]
  },
  {
   "cell_type": "code",
   "execution_count": 68,
   "id": "38df0fd5-d4c9-4138-8aba-c85d63df6a8e",
   "metadata": {},
   "outputs": [
    {
     "name": "stdout",
     "output_type": "stream",
     "text": [
      "True\n"
     ]
    }
   ],
   "source": [
    "p3 = And(Not(hagrid), dumbledore)\n",
    "p4 = Implies(dumbledore, rain)\n",
    "print(valid(Implies(And(p3, p4), rain)))"
   ]
  },
  {
   "cell_type": "code",
   "execution_count": 70,
   "id": "8920ec3d-e53a-40d5-bbc7-b14d53501a32",
   "metadata": {},
   "outputs": [
    {
     "name": "stdout",
     "output_type": "stream",
     "text": [
      "rain & ~hagrid\n",
      "{rain: True, hagrid: False}\n"
     ]
    }
   ],
   "source": [
    "p1 = And((rain), Not(hagrid))\n",
    "print(p1)\n",
    "print(satisfiable(p1))"
   ]
  }
 ],
 "metadata": {
  "kernelspec": {
   "display_name": "Python 3 (ipykernel)",
   "language": "python",
   "name": "python3"
  },
  "language_info": {
   "codemirror_mode": {
    "name": "ipython",
    "version": 3
   },
   "file_extension": ".py",
   "mimetype": "text/x-python",
   "name": "python",
   "nbconvert_exporter": "python",
   "pygments_lexer": "ipython3",
   "version": "3.12.4"
  }
 },
 "nbformat": 4,
 "nbformat_minor": 5
}
