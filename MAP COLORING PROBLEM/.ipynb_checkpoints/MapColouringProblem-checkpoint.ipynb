{
 "cells": [
  {
   "cell_type": "code",
   "execution_count": 5,
   "id": "dd1d5bc0-d563-4751-9114-8aca7a225f2c",
   "metadata": {},
   "outputs": [
    {
     "name": "stdout",
     "output_type": "stream",
     "text": [
      "Assigned colors: ['Red', 'Green', 'Blue', 'Red']\n"
     ]
    }
   ],
   "source": [
    "# Number of vertices in the graph\n",
    "V = 4\n",
    "\n",
    "# Convert adjacency matrix to adjacency list (dictionary)\n",
    "graph = {\n",
    "    0: [1, 2],  # Vertex 0 is connected to 1 and 2\n",
    "    1: [0, 2, 3],  # Vertex 1 is connected to 0, 2, and 3\n",
    "    2: [0, 1, 3],  # Vertex 2 is connected to 0, 1, and 3\n",
    "    3: [1, 2]   # Vertex 3 is connected to 1 and 2\n",
    "}\n",
    "\n",
    "# List of available color names\n",
    "colornames = [\"Red\", \"Green\", \"Blue\"]\n",
    "\n",
    "# Function to check if the current color assignment is valid for vertex\n",
    "def isSafe(vertex, colorsassigned, currentcolor):\n",
    "    for neighbor in graph[vertex]:\n",
    "        # Check if the neighbor has the same color\n",
    "        if colorsassigned[neighbor] == currentcolor:\n",
    "            return False\n",
    "    return True\n",
    "\n",
    "# Recursive function to solve the graph coloring problem\n",
    "def graphColoring(colorsavailable, colorsassigned, vertex):\n",
    "    # Base case: If all vertices are colored, return True\n",
    "    if vertex == V:\n",
    "        return True\n",
    "\n",
    "    # Try assigning each color from the list of color names to the current vertex\n",
    "    for color in colorsavailable:\n",
    "        # Check if it's safe to assign this color to the current vertex\n",
    "        if isSafe(vertex, colorsassigned, color):\n",
    "            # Assign the color\n",
    "            colorsassigned[vertex] = color\n",
    "           \n",
    "            # Recursively try to color the rest of the graph\n",
    "            if graphColoring(colorsavailable, colorsassigned, vertex + 1):\n",
    "                return True\n",
    "           \n",
    "            # If assigning color doesn't lead to a solution, backtrack\n",
    "            colorsassigned[vertex] = None\n",
    "\n",
    "    # If no valid color assignment is found, return False\n",
    "    return False\n",
    "\n",
    "# Main function to solve the problem\n",
    "def solveGraphColoring():\n",
    "    # Initialize all vertices as uncolored (None means no color assigned)\n",
    "    colorsassigned = [None] * V\n",
    "\n",
    "    # Start coloring from vertex 0\n",
    "    if not graphColoring(colornames, colorsassigned, 0):\n",
    "        print(\"No solution exists.\")\n",
    "    else:\n",
    "        print(\"Assigned colors:\", colorsassigned)\n",
    "\n",
    "# Call the function to solve the graph coloring problem\n",
    "solveGraphColoring()"
   ]
  },
  {
   "cell_type": "code",
   "execution_count": 7,
   "id": "04f09350-5948-4c88-b561-5b83009b9969",
   "metadata": {},
   "outputs": [
    {
     "name": "stdout",
     "output_type": "stream",
     "text": [
      "Assigned colors:\n",
      "Vertex 0: RED\n",
      "Vertex 1: GREEN\n",
      "Vertex 2: BLUE\n",
      "Vertex 3: RED\n"
     ]
    }
   ],
   "source": [
    "V = 4\n",
    "graph = {\n",
    "    0: [1, 2],\n",
    "    1: [0, 2, 3],\n",
    "    2: [0, 1, 3],\n",
    "    3: [1, 2]\n",
    "}\n",
    "\n",
    "colornames = ['RED', 'GREEN', 'BLUE']\n",
    "\n",
    "def issafe(vertex, colorsassigned, color):\n",
    "    # Check if assigning `color` to `vertex` causes any conflicts\n",
    "    for neighbor in graph[vertex]:\n",
    "        if colorsassigned[neighbor] == color:\n",
    "            return False\n",
    "    return True\n",
    "\n",
    "def graphcoloring(colorsavailable, colorsassigned, vertex):\n",
    "    # Base case: all vertices are assigned a color\n",
    "    if vertex == V:\n",
    "        return True\n",
    "\n",
    "    # Try assigning each color from the available colors\n",
    "    for color in colorsavailable:\n",
    "        if issafe(vertex, colorsassigned, color):\n",
    "            colorsassigned[vertex] = color\n",
    "            # Recursively assign colors to the next vertex\n",
    "            if graphcoloring(colorsavailable, colorsassigned, vertex + 1):\n",
    "                return True\n",
    "            # If assigning color doesn't lead to a solution, backtrack\n",
    "            colorsassigned[vertex] = None\n",
    "\n",
    "    # If no color can be assigned to this vertex, return False\n",
    "    return False\n",
    "\n",
    "def solvegraphcoloring():\n",
    "    # Initialize colors assigned array\n",
    "    colorsassigned = [None] * V\n",
    "    if not graphcoloring(colornames, colorsassigned, 0):\n",
    "        print(\"No solution exists\")\n",
    "    else:\n",
    "        # Print assigned color for each vertex\n",
    "        print(\"Assigned colors:\")\n",
    "        for vertex in range(V):\n",
    "            print(f\"Vertex {vertex}: {colorsassigned[vertex]}\")\n",
    "\n",
    "solvegraphcoloring()\n"
   ]
  },
  {
   "cell_type": "code",
   "execution_count": null,
   "id": "5fb9a0a4-fb2c-4dad-862d-fc49d1ae64e9",
   "metadata": {},
   "outputs": [],
   "source": []
  }
 ],
 "metadata": {
  "kernelspec": {
   "display_name": "Python 3 (ipykernel)",
   "language": "python",
   "name": "python3"
  },
  "language_info": {
   "codemirror_mode": {
    "name": "ipython",
    "version": 3
   },
   "file_extension": ".py",
   "mimetype": "text/x-python",
   "name": "python",
   "nbconvert_exporter": "python",
   "pygments_lexer": "ipython3",
   "version": "3.12.4"
  }
 },
 "nbformat": 4,
 "nbformat_minor": 5
}
