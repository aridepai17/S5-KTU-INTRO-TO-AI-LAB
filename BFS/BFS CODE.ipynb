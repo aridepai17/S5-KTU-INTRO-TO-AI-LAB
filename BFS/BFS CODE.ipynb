{
 "cells": [
  {
   "cell_type": "code",
   "execution_count": 6,
   "id": "d1a47030-a6fc-48eb-8aa2-7ff412258320",
   "metadata": {},
   "outputs": [
    {
     "name": "stdout",
     "output_type": "stream",
     "text": [
      "------------------------------------\n",
      "Queue : ['A']\n",
      "A \n",
      "Node = B\n",
      "Node = C\n",
      "------------------------------------\n",
      "Queue : ['B', 'C']\n",
      "B \n",
      "Node = D\n",
      "Node = E\n",
      "------------------------------------\n",
      "Queue : ['C', 'D', 'E']\n",
      "C \n",
      "Node = F\n",
      "Node = G\n",
      "------------------------------------\n",
      "Queue : ['D', 'E', 'F', 'G']\n",
      "D \n",
      "------------------------------------\n",
      "Queue : ['E', 'F', 'G']\n",
      "E \n",
      "------------------------------------\n",
      "Queue : ['F', 'G']\n",
      "F \n",
      "------------------------------------\n",
      "Queue : ['G']\n",
      "G \n"
     ]
    }
   ],
   "source": [
    "def BFS( graph, start):\n",
    "    visited = []\n",
    "    queue = []\n",
    "\n",
    "    visited.append(start)\n",
    "    queue.append(start)\n",
    "\n",
    "    while queue:\n",
    "        print('------------------------------------')\n",
    "        print(f\"Queue : { queue }\")\n",
    "        s = queue.pop(0)\n",
    "        print( s , end = ' ')\n",
    "        print()\n",
    "\n",
    "        for node in graph[s]:\n",
    "            if node not in visited:\n",
    "                print(f\"Node = { node }\")\n",
    "                visited.append(node)\n",
    "                queue.append(node)\n",
    "\n",
    "graph = { 'A':['B','C'] , 'B':['A','D','E'] , 'C':['A','F','G'] , 'D':['B'] , 'E':['B'] , 'F':['C'] , 'G':['C'] }\n",
    "BFS( graph, 'A')"
   ]
  },
  {
   "cell_type": "code",
   "execution_count": 5,
   "id": "bb784ab2-2ea0-42fa-aa81-bb731f6c3486",
   "metadata": {},
   "outputs": [
    {
     "name": "stdout",
     "output_type": "stream",
     "text": [
      "BFS :  A B C D E F G "
     ]
    }
   ],
   "source": [
    "def BFS( graph, start):\n",
    "    visited = []\n",
    "    queue = []\n",
    "\n",
    "    visited.append(start)\n",
    "    queue.append(start)\n",
    "\n",
    "    while queue:\n",
    "        s = queue.pop(0)\n",
    "        print( s , end = ' ')\n",
    "\n",
    "        for node in graph[s]:\n",
    "            if node not in visited:\n",
    "                visited.append(node)\n",
    "                queue.append(node)\n",
    "\n",
    "graph = { 'A':['B','C'] , 'B':['A','D','E'] , 'C':['A','F','G'] , 'D':['B'] , 'E':['B'] , 'F':['C'] , 'G':['C'] }\n",
    "print(\"BFS : \", end= \" \")\n",
    "BFS( graph, 'A')"
   ]
  },
  {
   "cell_type": "code",
   "execution_count": null,
   "id": "cfde3625-7e4e-419d-a4c6-0b065af93b0e",
   "metadata": {},
   "outputs": [],
   "source": []
  }
 ],
 "metadata": {
  "kernelspec": {
   "display_name": "Python 3 (ipykernel)",
   "language": "python",
   "name": "python3"
  },
  "language_info": {
   "codemirror_mode": {
    "name": "ipython",
    "version": 3
   },
   "file_extension": ".py",
   "mimetype": "text/x-python",
   "name": "python",
   "nbconvert_exporter": "python",
   "pygments_lexer": "ipython3",
   "version": "3.12.4"
  }
 },
 "nbformat": 4,
 "nbformat_minor": 5
}
