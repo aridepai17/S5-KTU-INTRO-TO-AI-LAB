{
 "cells": [
  {
   "cell_type": "code",
   "execution_count": 16,
   "id": "c19c81f7",
   "metadata": {},
   "outputs": [
    {
     "name": "stdout",
     "output_type": "stream",
     "text": [
      "Route using brute force: ['P', 'Q', 'S', 'R', 'P']\n",
      "Total distance: 15\n"
     ]
    }
   ],
   "source": [
    "from itertools import permutations\n",
    "\n",
    "def bruteforce(cities, distances):\n",
    "    mindistance = float('inf')\n",
    "    bestroute = None\n",
    "    n = len(cities)\n",
    "    \n",
    "    for route in permutations(range(n)):\n",
    "        route = list(route) + [route[0]]\n",
    "        distance = 0\n",
    "        for i in range(len(route)-1):\n",
    "            distance += distances[route[i]][route[i + 1]]\n",
    "        \n",
    "        if distance < mindistance:\n",
    "            mindistance = distance\n",
    "            bestroute = route\n",
    "            \n",
    "    #Conversion of indices to names\n",
    "    bestroutecities = [cities[i] for i in bestroute] + [cities[bestroute[0]]]\n",
    "    return bestroutecities, mindistance\n",
    "\n",
    "# List of cities\n",
    "cities = ['P', 'Q', 'R', 'S']\n",
    "\n",
    "distances = [\n",
    "    [0, 3, 6, 8],  # Distances from P\n",
    "    [3, 0, 9, 4],  # Distances from Q\n",
    "    [6, 9, 0, 2], # Distances from R\n",
    "    [8, 4, 2, 0]   # Distances from S\n",
    "]\n",
    "\n",
    "#Find the best route and distance\n",
    "route, distance = bruteforce(cities, distances)\n",
    "print(\"Route using brute force:\", route[:-1])\n",
    "print(\"Total distance:\", distance)"
   ]
  },
  {
   "cell_type": "code",
   "execution_count": null,
   "id": "e00b87ec",
   "metadata": {},
   "outputs": [],
   "source": []
  }
 ],
 "metadata": {
  "kernelspec": {
   "display_name": "Python 3 (ipykernel)",
   "language": "python",
   "name": "python3"
  },
  "language_info": {
   "codemirror_mode": {
    "name": "ipython",
    "version": 3
   },
   "file_extension": ".py",
   "mimetype": "text/x-python",
   "name": "python",
   "nbconvert_exporter": "python",
   "pygments_lexer": "ipython3",
   "version": "3.8.10"
  }
 },
 "nbformat": 4,
 "nbformat_minor": 5
}
