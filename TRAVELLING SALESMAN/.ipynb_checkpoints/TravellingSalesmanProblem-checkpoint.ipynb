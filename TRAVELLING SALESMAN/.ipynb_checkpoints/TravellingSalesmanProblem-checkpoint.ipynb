{
 "cells": [
  {
   "cell_type": "code",
   "execution_count": 16,
   "id": "c19c81f7",
   "metadata": {},
   "outputs": [
    {
     "name": "stdout",
     "output_type": "stream",
     "text": [
      "Route using brute force: ['P', 'Q', 'S', 'R', 'P']\n",
      "Total distance: 15\n"
     ]
    }
   ],
   "source": [
    "from itertools import permutations\n",
    "\n",
    "def bruteforce(cities, distances):\n",
    "    mindistance = float('inf')\n",
    "    bestroute = None\n",
    "    n = len(cities)\n",
    "    \n",
    "    for route in permutations(range(n)):\n",
    "        route = list(route) + [route[0]]\n",
    "        distance = 0\n",
    "        for i in range(len(route)-1):\n",
    "            distance += distances[route[i]][route[i + 1]]\n",
    "        \n",
    "        if distance < mindistance:\n",
    "            mindistance = distance\n",
    "            bestroute = route\n",
    "            \n",
    "    #Conversion of indices to names\n",
    "    bestroutecities = [cities[i] for i in bestroute] + [cities[bestroute[0]]]\n",
    "    return bestroutecities, mindistance\n",
    "\n",
    "# List of cities\n",
    "cities = ['P', 'Q', 'R', 'S']\n",
    "\n",
    "distances = [\n",
    "    [0, 3, 6, 8],  # Distances from P\n",
    "    [3, 0, 9, 4],  # Distances from Q\n",
    "    [6, 9, 0, 2], # Distances from R\n",
    "    [8, 4, 2, 0]   # Distances from S\n",
    "]\n",
    "\n",
    "#Find the best route and distance\n",
    "route, distance = bruteforce(cities, distances)\n",
    "print(\"Route using brute force:\", route[:-1])\n",
    "print(\"Total distance:\", distance)"
   ]
  },
  {
   "cell_type": "code",
   "execution_count": 1,
   "id": "e00b87ec",
   "metadata": {},
   "outputs": [
    {
     "name": "stdout",
     "output_type": "stream",
     "text": [
      "Route:  ['P', 'Q', 'R', 'S', 'P'] Distance:  22\n",
      "Route:  ['P', 'Q', 'S', 'R', 'P'] Distance:  15\n",
      "Route:  ['P', 'R', 'Q', 'S', 'P'] Distance:  27\n",
      "Route:  ['P', 'R', 'S', 'Q', 'P'] Distance:  15\n",
      "Route:  ['P', 'S', 'Q', 'R', 'P'] Distance:  27\n",
      "Route:  ['P', 'S', 'R', 'Q', 'P'] Distance:  22\n",
      "Route:  ['Q', 'P', 'R', 'S', 'Q'] Distance:  15\n",
      "Route:  ['Q', 'P', 'S', 'R', 'Q'] Distance:  22\n",
      "Route:  ['Q', 'R', 'P', 'S', 'Q'] Distance:  27\n",
      "Route:  ['Q', 'R', 'S', 'P', 'Q'] Distance:  22\n",
      "Route:  ['Q', 'S', 'P', 'R', 'Q'] Distance:  27\n",
      "Route:  ['Q', 'S', 'R', 'P', 'Q'] Distance:  15\n",
      "Route:  ['R', 'P', 'Q', 'S', 'R'] Distance:  15\n",
      "Route:  ['R', 'P', 'S', 'Q', 'R'] Distance:  27\n",
      "Route:  ['R', 'Q', 'P', 'S', 'R'] Distance:  22\n",
      "Route:  ['R', 'Q', 'S', 'P', 'R'] Distance:  27\n",
      "Route:  ['R', 'S', 'P', 'Q', 'R'] Distance:  22\n",
      "Route:  ['R', 'S', 'Q', 'P', 'R'] Distance:  15\n",
      "Route:  ['S', 'P', 'Q', 'R', 'S'] Distance:  22\n",
      "Route:  ['S', 'P', 'R', 'Q', 'S'] Distance:  27\n",
      "Route:  ['S', 'Q', 'P', 'R', 'S'] Distance:  15\n",
      "Route:  ['S', 'Q', 'R', 'P', 'S'] Distance:  27\n",
      "Route:  ['S', 'R', 'P', 'Q', 'S'] Distance:  15\n",
      "Route:  ['S', 'R', 'Q', 'P', 'S'] Distance:  22\n",
      "Optimal Path:  ['P', 'Q', 'S', 'R', 'P']\n",
      "Distance:  15\n"
     ]
    }
   ],
   "source": [
    "from itertools import permutations\n",
    "\n",
    "def bruteforce( cities, route ):\n",
    "    n = len(cities)\n",
    "    mindistance = float('inf')\n",
    "    bestroute = None\n",
    "\n",
    "    for route in permutations(range(n)):\n",
    "        distance = sum(distances[route[i]][route[i+1]] for i in range(n-1))\n",
    "        distance += distances[route[-1]][route[0]]\n",
    "\n",
    "        routecities = [cities[i] for i in route] + [cities[route[0]]]\n",
    "        print(\"Route: \", routecities, \"Distance: \", distance)\n",
    "\n",
    "        if distance < mindistance: \n",
    "            mindistance = distance\n",
    "            bestroute = route\n",
    "\n",
    "    bestroutecities = [cities[i] for i in bestroute] + [cities[bestroute[0]]]\n",
    "    return bestroutecities, mindistance\n",
    "\n",
    "cities = ['P', 'Q', 'R', 'S' ]\n",
    "distances = [\n",
    "    [0,3,6,8],\n",
    "    [3,0,9,4],\n",
    "    [6,9,0,2],\n",
    "    [8,4,2,0]\n",
    "]\n",
    "route, distance = bruteforce(cities , distances )\n",
    "print(\"Optimal Path: \", route)\n",
    "print(\"Distance: \", distance)"
   ]
  },
  {
   "cell_type": "code",
   "execution_count": null,
   "id": "d850f270-427c-43b1-be53-32396e351e7d",
   "metadata": {},
   "outputs": [],
   "source": []
  }
 ],
 "metadata": {
  "kernelspec": {
   "display_name": "Python 3 (ipykernel)",
   "language": "python",
   "name": "python3"
  },
  "language_info": {
   "codemirror_mode": {
    "name": "ipython",
    "version": 3
   },
   "file_extension": ".py",
   "mimetype": "text/x-python",
   "name": "python",
   "nbconvert_exporter": "python",
   "pygments_lexer": "ipython3",
   "version": "3.12.4"
  }
 },
 "nbformat": 4,
 "nbformat_minor": 5
}
