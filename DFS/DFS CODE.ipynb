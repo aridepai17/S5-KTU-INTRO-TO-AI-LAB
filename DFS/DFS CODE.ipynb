{
 "cells": [
  {
   "cell_type": "code",
   "execution_count": 4,
   "id": "68c11ff1-2448-4512-bbb4-30e5ea36cce5",
   "metadata": {},
   "outputs": [
    {
     "name": "stdout",
     "output_type": "stream",
     "text": [
      "-----------------------------\n",
      "Order: ['A']\n",
      "Visited : {'A'}\n",
      "-----------------------------\n",
      "Order: ['B']\n",
      "Visited : {'B', 'A'}\n",
      "-----------------------------\n",
      "Order: ['D']\n",
      "Visited : {'D', 'B', 'A'}\n",
      "-----------------------------\n",
      "Order: ['E']\n",
      "Visited : {'D', 'B', 'A', 'E'}\n",
      "-----------------------------\n",
      "Order: ['C']\n",
      "Visited : {'B', 'A', 'C', 'D', 'E'}\n",
      "-----------------------------\n",
      "Order: ['F']\n",
      "Visited : {'B', 'A', 'C', 'F', 'D', 'E'}\n",
      "-----------------------------\n",
      "Order: ['G']\n",
      "Visited : {'G', 'B', 'A', 'C', 'F', 'D', 'E'}\n"
     ]
    },
    {
     "data": {
      "text/plain": [
       "['A', 'B', 'D', 'E', 'C', 'F', 'G']"
      ]
     },
     "execution_count": 4,
     "metadata": {},
     "output_type": "execute_result"
    }
   ],
   "source": [
    "def DFS(graph, start, visited = None):\n",
    "    if visited is None:\n",
    "        visited = set()\n",
    "\n",
    "    order = []\n",
    "\n",
    "    if start not in visited:\n",
    "        order.append(start)\n",
    "        visited.add(start)\n",
    "        print('-----------------------------')\n",
    "        print(f\"Order: { order }\")\n",
    "        print(f\"Visited : { visited }\")\n",
    "\n",
    "        for node in graph[start]:\n",
    "            if node not in visited:\n",
    "                order.extend(DFS(graph, node, visited))\n",
    "\n",
    "        return order\n",
    "\n",
    "graph = { 'A':['B','C'] , 'B':['A','D','E'] , 'C':['A','F','G'] , 'D':['B'] , 'E':['B'] , 'F':['C'] , 'G':['C'] }\n",
    "DFS(graph, 'A')"
   ]
  },
  {
   "cell_type": "code",
   "execution_count": 5,
   "id": "cf4df1e5-4ceb-4ef6-8a4f-507200ce50e6",
   "metadata": {},
   "outputs": [
    {
     "data": {
      "text/plain": [
       "['A', 'B', 'D', 'E', 'C', 'F', 'G']"
      ]
     },
     "execution_count": 5,
     "metadata": {},
     "output_type": "execute_result"
    }
   ],
   "source": [
    "def DFS(graph, start, visited = None):\n",
    "    if visited is None:\n",
    "        visited = set()\n",
    "\n",
    "    order = []\n",
    "\n",
    "    if start not in visited:\n",
    "        order.append(start)\n",
    "        visited.add(start)\n",
    "\n",
    "        for node in graph[start]:\n",
    "            if node not in visited:\n",
    "                order.extend(DFS(graph, node, visited))\n",
    "\n",
    "        return order\n",
    "\n",
    "graph = { 'A':['B','C'] , 'B':['A','D','E'] , 'C':['A','F','G'] , 'D':['B'] , 'E':['B'] , 'F':['C'] , 'G':['C'] }\n",
    "DFS(graph, 'A')"
   ]
  },
  {
   "cell_type": "code",
   "execution_count": null,
   "id": "1aaa9264-6ab8-4b12-a37d-ce9f71cada8d",
   "metadata": {},
   "outputs": [],
   "source": []
  }
 ],
 "metadata": {
  "kernelspec": {
   "display_name": "Python 3 (ipykernel)",
   "language": "python",
   "name": "python3"
  },
  "language_info": {
   "codemirror_mode": {
    "name": "ipython",
    "version": 3
   },
   "file_extension": ".py",
   "mimetype": "text/x-python",
   "name": "python",
   "nbconvert_exporter": "python",
   "pygments_lexer": "ipython3",
   "version": "3.12.4"
  }
 },
 "nbformat": 4,
 "nbformat_minor": 5
}
