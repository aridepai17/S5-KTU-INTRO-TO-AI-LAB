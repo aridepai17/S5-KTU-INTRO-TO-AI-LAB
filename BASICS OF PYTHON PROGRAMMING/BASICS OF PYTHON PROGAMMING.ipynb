{
 "cells": [
  {
   "cell_type": "code",
   "execution_count": 7,
   "id": "9e88c3a5-81a9-4e11-b392-49a0f8aeaa14",
   "metadata": {},
   "outputs": [
    {
     "name": "stdin",
     "output_type": "stream",
     "text": [
      "Enter string to check for palindrome :  racecar\n"
     ]
    },
    {
     "name": "stdout",
     "output_type": "stream",
     "text": [
      "Palindrome\n"
     ]
    }
   ],
   "source": [
    "#To find if a string is palindrome or not\n",
    "\n",
    "s1 = input(\"Enter string to check for palindrome : \")\n",
    "if ( s1 == s1[::-1] ):\n",
    "    print(\"Palindrome\")\n",
    "else:\n",
    "    print(\"Not Palindrome\")"
   ]
  },
  {
   "cell_type": "code",
   "execution_count": 11,
   "id": "a675fcd1-b2e9-495f-9ec8-1b9705a186aa",
   "metadata": {},
   "outputs": [
    {
     "name": "stdin",
     "output_type": "stream",
     "text": [
      "Enter a sentence:  My name is is Advaith \n"
     ]
    },
    {
     "name": "stdout",
     "output_type": "stream",
     "text": [
      "{'My': 1, 'name': 1, 'is': 2, 'Advaith': 1}\n"
     ]
    }
   ],
   "source": [
    "#To find number of occurances of words in a given string. \n",
    "\n",
    "sentence = input(\"Enter a sentence: \")\n",
    "words = sentence.split()\n",
    "wordcount = {}\n",
    "for word in words:\n",
    "    if word in wordcount:\n",
    "        wordcount[word] += 1\n",
    "    else:\n",
    "        wordcount[word] = 1\n",
    "print(wordcount)"
   ]
  },
  {
   "cell_type": "code",
   "execution_count": 20,
   "id": "f7c12dc5-3f12-4fdf-afd2-8b79f52f8351",
   "metadata": {},
   "outputs": [
    {
     "name": "stdin",
     "output_type": "stream",
     "text": [
      "Enter the size of matrix:  3\n",
      "Enter row 1 :  1 2 3\n",
      "Enter row 2 :  4 5 6\n",
      "Enter row 3 :  7 8 9\n"
     ]
    },
    {
     "name": "stdout",
     "output_type": "stream",
     "text": [
      "Sum of main diagonal of the matrix: 15\n",
      "Sum of off diagonal of the matrix: 15\n"
     ]
    }
   ],
   "source": [
    "#To find the sum of diagonal & off diagonal\n",
    "\n",
    "def sumdiagonals(matrix):\n",
    "    n = len(matrix)\n",
    "    summaindiagonal = 0\n",
    "    sumoffdiagonal = 0\n",
    "\n",
    "    for i in range(n):\n",
    "        for j in range(n):\n",
    "            if i == j:\n",
    "                summaindiagonal += matrix[i][j]\n",
    "            if i + j == n - 1:\n",
    "                sumoffdiagonal += matrix[i][j]\n",
    "\n",
    "    return summaindiagonal,sumoffdiagonal\n",
    "\n",
    "n = int(input(\"Enter the size of matrix: \"))\n",
    "matrix = []\n",
    "\n",
    "for i in range(n):\n",
    "    row = input(f\"Enter row {i + 1} : \").split()\n",
    "    rows = []\n",
    "    for element in row:\n",
    "        rows.append(int(element))\n",
    "    matrix.append(rows)\n",
    "\n",
    "summaindiagonal, sumoffdiagonal = sumdiagonals(matrix)\n",
    "print(f\"Sum of main diagonal of the matrix: {summaindiagonal}\")\n",
    "print(f\"Sum of off diagonal of the matrix: {sumoffdiagonal}\")"
   ]
  },
  {
   "cell_type": "code",
   "execution_count": 21,
   "id": "badd8466-3a17-44ca-9eb0-63166a8363ed",
   "metadata": {},
   "outputs": [
    {
     "name": "stdin",
     "output_type": "stream",
     "text": [
      "Enter the number of terms in Fibonacci Series:  7\n"
     ]
    },
    {
     "name": "stdout",
     "output_type": "stream",
     "text": [
      "[0, 1, 1, 2, 3, 5, 8]\n"
     ]
    }
   ],
   "source": [
    "#To print fibonacci series\n",
    "\n",
    "def fibonacciseries(n):\n",
    "    a,b = 0,1\n",
    "    series = []\n",
    "    for i in range(n):\n",
    "        series.append(a)\n",
    "        a,b = b, a+b\n",
    "    return series\n",
    "\n",
    "n = int(input(\"Enter the number of terms in Fibonacci Series: \"))\n",
    "print(fibonacciseries(n))"
   ]
  },
  {
   "cell_type": "code",
   "execution_count": 25,
   "id": "0c9878c7-9de2-4830-bd45-0a6314c599bb",
   "metadata": {},
   "outputs": [
    {
     "name": "stdin",
     "output_type": "stream",
     "text": [
      "Enter the start of the range:  1\n",
      "Enter the end of the range:  20\n"
     ]
    },
    {
     "name": "stdout",
     "output_type": "stream",
     "text": [
      "[2, 3, 5, 7, 11, 13, 17, 19]\n"
     ]
    }
   ],
   "source": [
    "#Print prime number in a range m to n\n",
    "\n",
    "def primenumber(no):\n",
    "    if no < 2:\n",
    "        return False\n",
    "    for i in range(2, no):\n",
    "        if no % i == 0:\n",
    "            return False\n",
    "    return True\n",
    "\n",
    "def primeinrange(m, n):\n",
    "    return [ no for no in range(m, n+1) if primenumber(no) ]\n",
    "\n",
    "m = int(input(\"Enter the start of the range: \"))\n",
    "n = int(input(\"Enter the end of the range: \"))\n",
    "print(primeinrange(m, n))"
   ]
  }
 ],
 "metadata": {
  "kernelspec": {
   "display_name": "Python 3 (ipykernel)",
   "language": "python",
   "name": "python3"
  },
  "language_info": {
   "codemirror_mode": {
    "name": "ipython",
    "version": 3
   },
   "file_extension": ".py",
   "mimetype": "text/x-python",
   "name": "python",
   "nbconvert_exporter": "python",
   "pygments_lexer": "ipython3",
   "version": "3.12.4"
  }
 },
 "nbformat": 4,
 "nbformat_minor": 5
}
