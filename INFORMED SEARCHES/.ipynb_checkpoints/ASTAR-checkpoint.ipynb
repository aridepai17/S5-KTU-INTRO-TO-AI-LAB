{
 "cells": [
  {
   "cell_type": "code",
   "execution_count": 2,
   "id": "13d9721d-0572-4696-aee5-c1fd6b3606e8",
   "metadata": {},
   "outputs": [
    {
     "name": "stdout",
     "output_type": "stream",
     "text": [
      "Path found:  ['A', 'B', 'D', 'E']\n",
      "Total cost:  7\n"
     ]
    }
   ],
   "source": [
    "def ASTAR(graph, start, goal, heuristic):\n",
    "    openlist = [(0 + heuristic[start], start, [start])]  # Initialize the open list with the start node\n",
    "    gcost = {start: 0}  # Initialize g-cost for the start node as 0\n",
    "    parent = {}  # Dictionary to store the parent of each node for path reconstruction\n",
    "    \n",
    "    while openlist:\n",
    "        openlist.sort(key=lambda x: x[0])  # Sort open list by the f-cost (g + h)\n",
    "        _, currentnode, path = openlist.pop(0)  # Pop the node with the lowest f-cost\n",
    "        \n",
    "        if currentnode == goal:  # If the goal node is reached\n",
    "            totalcost = gcost[goal]  # Get the total g-cost to the goal\n",
    "            print(\"Path found: \", path)\n",
    "            print(\"Total cost: \", totalcost)\n",
    "            return path, totalcost  # Return the path and its total cost\n",
    "        \n",
    "        # Explore all neighbors of the current node\n",
    "        for neighbour, cost in graph.get(currentnode, []):\n",
    "            tentativegcost = gcost[currentnode] + cost  # Calculate tentative g-cost\n",
    "            \n",
    "            # If the neighbor has not been visited or a shorter path is found\n",
    "            if neighbour not in gcost or tentativegcost < gcost[neighbour]:\n",
    "                gcost[neighbour] = tentativegcost  # Update g-cost for the neighbor\n",
    "                fcost = tentativegcost + heuristic[neighbour]  # Calculate f-cost (g + h)\n",
    "                parent[neighbour] = currentnode  # Set the current node as the parent of the neighbor\n",
    "                \n",
    "                # Add the neighbor to the open list with its f-cost, node, and path\n",
    "                openlist.append((fcost, neighbour, path + [neighbour]))\n",
    "    \n",
    "    return None, None  # If the goal is not reachable, return None\n",
    "\n",
    "# Graph and heuristic values\n",
    "graph = {\n",
    "    'A': [('B', 1), ('C', 3)],\n",
    "    'B': [('A', 1), ('D', 2)], \n",
    "    'C': [('A', 3), ('D', 1)],\n",
    "    'D': [('B', 2), ('C', 1), ('E', 4)],\n",
    "    'E': [('D', 4)]\n",
    "}\n",
    "\n",
    "heuristic = {\n",
    "    'A': 7, 'B': 6, 'C': 2, 'D': 1, 'E': 0\n",
    "}\n",
    "\n",
    "path, totalcost = ASTAR(graph, 'A', 'E', heuristic)"
   ]
  },
  {
   "cell_type": "code",
   "execution_count": 1,
   "id": "a431d233-85f2-4e41-8752-d90fafee4dd7",
   "metadata": {},
   "outputs": [
    {
     "name": "stdout",
     "output_type": "stream",
     "text": [
      "Path found:  ['A', 'B', 'D', 'E']\n",
      "Total cost:  7\n"
     ]
    }
   ],
   "source": [
    "import heapq\n",
    "\n",
    "# A* algorithm function\n",
    "def astar(graph, start, goal, heuristic):\n",
    "    # Initialize the priority queue with the starting node. Each entry in pq contains:\n",
    "    # (estimated total cost from start to goal through the node, current node, path taken so far)\n",
    "    pq = [(heuristic[start], start, [start])]\n",
    "    \n",
    "    # Initialize the cost to reach each node from the start node; set the start node's cost to 0\n",
    "    gcost = {start: 0}\n",
    "\n",
    "    # Main loop: continue searching while there are nodes in the priority queue\n",
    "    while pq:\n",
    "        # Pop the node with the lowest estimated total cost (f-cost)\n",
    "        _, currentnode, path = heapq.heappop(pq)\n",
    "\n",
    "        # If the goal is reached, return the path and the total cost\n",
    "        if currentnode == goal:\n",
    "            print(\"Path found: \", path)\n",
    "            print(\"Total cost: \", gcost[goal])\n",
    "            return path, gcost[goal]\n",
    "\n",
    "        # Explore each neighbor of the current node\n",
    "        for neighbour, cost in graph.get(currentnode, []):\n",
    "            # Calculate tentative g-cost to the neighbor\n",
    "            tentativegcost = gcost[currentnode] + cost\n",
    "\n",
    "            # If the neighbor hasn't been visited or a lower cost path to it is found, update costs and path\n",
    "            if neighbour not in gcost or tentativegcost < gcost[neighbour]:\n",
    "                # Update the cost to reach this neighbor\n",
    "                gcost[neighbour] = tentativegcost\n",
    "                # Calculate the f-cost (g-cost + heuristic) for the neighbor\n",
    "                fcost = tentativegcost + heuristic[neighbour]\n",
    "                \n",
    "                # Push the neighbor onto the priority queue with updated path and f-cost\n",
    "                heapq.heappush(pq, (fcost, neighbour, path + [neighbour]))\n",
    "\n",
    "    # If the priority queue is empty and the goal wasn't found, return failure\n",
    "    print(\"No path found\")\n",
    "    return None, None\n",
    "\n",
    "# Example graph represented as an adjacency list with costs for each edge\n",
    "graph = {\n",
    "    'A': [('B', 1), ('C', 3)],\n",
    "    'B': [('A', 1), ('D', 2)], \n",
    "    'C': [('A', 3), ('D', 1)],\n",
    "    'D': [('B', 2), ('C', 1), ('E', 4)],\n",
    "    'E': [('D', 4)]\n",
    "}\n",
    "\n",
    "# Heuristic estimates for each node to the goal (E)\n",
    "heuristic = {\n",
    "    'A': 7, 'B': 6, 'C': 2, 'D': 1, 'E': 0\n",
    "}\n",
    "\n",
    "# Run the A* algorithm from node 'A' to node 'E'\n",
    "path, totalcost = astar(graph, 'A', 'E', heuristic)"
   ]
  }
 ],
 "metadata": {
  "kernelspec": {
   "display_name": "Python 3 (ipykernel)",
   "language": "python",
   "name": "python3"
  },
  "language_info": {
   "codemirror_mode": {
    "name": "ipython",
    "version": 3
   },
   "file_extension": ".py",
   "mimetype": "text/x-python",
   "name": "python",
   "nbconvert_exporter": "python",
   "pygments_lexer": "ipython3",
   "version": "3.12.4"
  }
 },
 "nbformat": 4,
 "nbformat_minor": 5
}
