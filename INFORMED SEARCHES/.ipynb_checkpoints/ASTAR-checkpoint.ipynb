{
 "cells": [
  {
   "cell_type": "code",
   "execution_count": 2,
   "id": "13d9721d-0572-4696-aee5-c1fd6b3606e8",
   "metadata": {},
   "outputs": [
    {
     "name": "stdout",
     "output_type": "stream",
     "text": [
      "Path found:  ['A', 'B', 'D', 'E']\n",
      "Total cost:  7\n"
     ]
    }
   ],
   "source": [
    "def ASTAR(graph, start, goal, heuristic):\n",
    "    openlist = [(0 + heuristic[start], start, [start])]  # Initialize the open list with the start node\n",
    "    gcost = {start: 0}  # Initialize g-cost for the start node as 0\n",
    "    parent = {}  # Dictionary to store the parent of each node for path reconstruction\n",
    "    \n",
    "    while openlist:\n",
    "        openlist.sort(key=lambda x: x[0])  # Sort open list by the f-cost (g + h)\n",
    "        _, currentnode, path = openlist.pop(0)  # Pop the node with the lowest f-cost\n",
    "        \n",
    "        if currentnode == goal:  # If the goal node is reached\n",
    "            totalcost = gcost[goal]  # Get the total g-cost to the goal\n",
    "            print(\"Path found: \", path)\n",
    "            print(\"Total cost: \", totalcost)\n",
    "            return path, totalcost  # Return the path and its total cost\n",
    "        \n",
    "        # Explore all neighbors of the current node\n",
    "        for neighbour, cost in graph.get(currentnode, []):\n",
    "            tentativegcost = gcost[currentnode] + cost  # Calculate tentative g-cost\n",
    "            \n",
    "            # If the neighbor has not been visited or a shorter path is found\n",
    "            if neighbour not in gcost or tentativegcost < gcost[neighbour]:\n",
    "                gcost[neighbour] = tentativegcost  # Update g-cost for the neighbor\n",
    "                fcost = tentativegcost + heuristic[neighbour]  # Calculate f-cost (g + h)\n",
    "                parent[neighbour] = currentnode  # Set the current node as the parent of the neighbor\n",
    "                \n",
    "                # Add the neighbor to the open list with its f-cost, node, and path\n",
    "                openlist.append((fcost, neighbour, path + [neighbour]))\n",
    "    \n",
    "    return None, None  # If the goal is not reachable, return None\n",
    "\n",
    "# Graph and heuristic values\n",
    "graph = {\n",
    "    'A': [('B', 1), ('C', 3)],\n",
    "    'B': [('A', 1), ('D', 2)], \n",
    "    'C': [('A', 3), ('D', 1)],\n",
    "    'D': [('B', 2), ('C', 1), ('E', 4)],\n",
    "    'E': [('D', 4)]\n",
    "}\n",
    "\n",
    "heuristic = {\n",
    "    'A': 7, 'B': 6, 'C': 2, 'D': 1, 'E': 0\n",
    "}\n",
    "\n",
    "path, totalcost = ASTAR(graph, 'A', 'E', heuristic)"
   ]
  }
 ],
 "metadata": {
  "kernelspec": {
   "display_name": "Python 3 (ipykernel)",
   "language": "python",
   "name": "python3"
  },
  "language_info": {
   "codemirror_mode": {
    "name": "ipython",
    "version": 3
   },
   "file_extension": ".py",
   "mimetype": "text/x-python",
   "name": "python",
   "nbconvert_exporter": "python",
   "pygments_lexer": "ipython3",
   "version": "3.12.4"
  }
 },
 "nbformat": 4,
 "nbformat_minor": 5
}
