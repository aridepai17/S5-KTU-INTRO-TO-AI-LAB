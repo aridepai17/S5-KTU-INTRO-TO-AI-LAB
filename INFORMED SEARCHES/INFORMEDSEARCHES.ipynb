{
 "cells": [
  {
   "cell_type": "markdown",
   "id": "6c68eda3",
   "metadata": {},
   "source": [
    "# GREEDY BFS"
   ]
  },
  {
   "cell_type": "code",
   "execution_count": 18,
   "id": "eab017d2",
   "metadata": {},
   "outputs": [
    {
     "name": "stdout",
     "output_type": "stream",
     "text": [
      "Path found: ['A', 'C', 'E', 'F']\n"
     ]
    }
   ],
   "source": [
    "def GREEDYBFS(graph, start, goal, heuristic):\n",
    "    pq = [(heuristic[start], start, [start])]  # priority queue to store heuristic value, node, and path\n",
    "    visited = set()  # create an empty set visited\n",
    "    \n",
    "    while pq:\n",
    "        pq.sort(key=lambda x: x[0])  # sort list to get the smallest heuristic value\n",
    "        heuristicvalue, currentnode, path = pq.pop(0)  # pop the first element\n",
    "        \n",
    "        if currentnode == goal:  # check if current node is equal to goal node\n",
    "            return path  # return the path\n",
    "        \n",
    "        visited.add(currentnode)  # add current node to visited\n",
    "        \n",
    "        unvisitedneighbors = False\n",
    "        \n",
    "        for neighbor, _ in graph[currentnode]:  # check for all neighbors\n",
    "            if neighbor not in visited:  # check if neighbor node is in visited\n",
    "                pq.append((heuristic[neighbor], neighbor, path + [neighbor]))  # append the heuristic value of the neighbor, neighbor node, and the path\n",
    "                unvisitedneighbors = True\n",
    "        \n",
    "        if not unvisitedneighbors and not pq:  # If no unvisited neighbors and pq is empty\n",
    "            print(\"Path does not exist\")\n",
    "            return None  # return None indicating no path\n",
    "    \n",
    "    print(\"Path does not exist\")\n",
    "    return None\n",
    "\n",
    "# graph where a path exists from 'A' to 'F'\n",
    "graph = {\n",
    "    'A': [('B', 1), ('C', 1)],\n",
    "    'B': [('A', 1), ('D', 1)],\n",
    "    'C': [('A', 1), ('D', 1), ('E', 1)],\n",
    "    'D': [('B', 1), ('C', 1)],\n",
    "    'E': [('C', 1), ('F', 1)],\n",
    "    'F': [('E', 1)]\n",
    "}\n",
    "\n",
    "heuristic = {\n",
    "    'A': 6, 'B': 3, 'C': 4, 'D': 1, 'E': 2, 'F': 0\n",
    "}\n",
    "\n",
    "path = GREEDYBFS(graph, 'A', 'F', heuristic)\n",
    "if path:\n",
    "    print(\"Path found:\", path)"
   ]
  },
  {
   "cell_type": "markdown",
   "id": "0909d39e",
   "metadata": {},
   "source": [
    "# A* SEARCH"
   ]
  },
  {
   "cell_type": "code",
   "execution_count": 22,
   "id": "37292e16",
   "metadata": {},
   "outputs": [
    {
     "name": "stdout",
     "output_type": "stream",
     "text": [
      "Path found:  ['A', 'B', 'D', 'E']\n",
      "Total cost:  7\n"
     ]
    }
   ],
   "source": [
    "def ASTAR(graph, start, goal, heuristic):\n",
    "    openlist = [(0 + heuristic[start], start, [start])]  # Initialize the open list with the start node\n",
    "    gcost = {start: 0}  # Initialize g-cost for the start node as 0\n",
    "    parent = {}  # Dictionary to store the parent of each node for path reconstruction\n",
    "    \n",
    "    while openlist:\n",
    "        openlist.sort(key=lambda x: x[0])  # Sort open list by the f-cost (g + h)\n",
    "        _, currentnode, path = openlist.pop(0)  # Pop the node with the lowest f-cost\n",
    "        \n",
    "        if currentnode == goal:  # If the goal node is reached\n",
    "            totalcost = gcost[goal]  # Get the total g-cost to the goal\n",
    "            print(\"Path found: \", path)\n",
    "            print(\"Total cost: \", totalcost)\n",
    "            return path, totalcost  # Return the path and its total cost\n",
    "        \n",
    "        # Explore all neighbors of the current node\n",
    "        for neighbour, cost in graph.get(currentnode, []):\n",
    "            tentativegcost = gcost[currentnode] + cost  # Calculate tentative g-cost\n",
    "            \n",
    "            # If the neighbor has not been visited or a shorter path is found\n",
    "            if neighbour not in gcost or tentativegcost < gcost[neighbour]:\n",
    "                gcost[neighbour] = tentativegcost  # Update g-cost for the neighbor\n",
    "                fcost = tentativegcost + heuristic[neighbour]  # Calculate f-cost (g + h)\n",
    "                parent[neighbour] = currentnode  # Set the current node as the parent of the neighbor\n",
    "                \n",
    "                # Add the neighbor to the open list with its f-cost, node, and path\n",
    "                openlist.append((fcost, neighbour, path + [neighbour]))\n",
    "    \n",
    "    return None, None  # If the goal is not reachable, return None\n",
    "\n",
    "# Graph and heuristic values\n",
    "graph = {\n",
    "    'A': [('B', 1), ('C', 3)],\n",
    "    'B': [('A', 1), ('D', 2)], \n",
    "    'C': [('A', 3), ('D', 1)],\n",
    "    'D': [('B', 2), ('C', 1), ('E', 4)],\n",
    "    'E': [('D', 4)]\n",
    "}\n",
    "\n",
    "heuristic = {\n",
    "    'A': 7, 'B': 6, 'C': 2, 'D': 1, 'E': 0\n",
    "}\n",
    "\n",
    "path, totalcost = ASTAR(graph, 'A', 'E', heuristic)"
   ]
  }
 ],
 "metadata": {
  "kernelspec": {
   "display_name": "Python 3 (ipykernel)",
   "language": "python",
   "name": "python3"
  },
  "language_info": {
   "codemirror_mode": {
    "name": "ipython",
    "version": 3
   },
   "file_extension": ".py",
   "mimetype": "text/x-python",
   "name": "python",
   "nbconvert_exporter": "python",
   "pygments_lexer": "ipython3",
   "version": "3.12.4"
  }
 },
 "nbformat": 4,
 "nbformat_minor": 5
}
